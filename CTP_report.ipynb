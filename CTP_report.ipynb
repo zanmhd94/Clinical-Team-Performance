{
 "cells": [
  {
   "cell_type": "code",
   "execution_count": 1,
   "metadata": {},
   "outputs": [],
   "source": [
    "# Installed packages\n",
    "import os\n",
    "import numpy as np\n",
    "import scipy\n",
    "import pandas as pd\n",
    "import matplotlib\n",
    "import matplotlib.pyplot as plt\n",
    "from matplotlib.ticker import (MultipleLocator, AutoMinorLocator, MaxNLocator)\n",
    "import datetime\n",
    "import matplotlib.dates as mdates\n",
    "\n",
    "# Local files\n",
    "import CTP_fns"
   ]
  },
  {
   "cell_type": "code",
   "execution_count": null,
   "metadata": {},
   "outputs": [],
   "source": [
    "# Load the data from the uploaded files. Files were given in .xlsx and have been converted to .csv\n",
    "input_dir = \"input_data\"\n",
    "input_data = {\n",
    "                fn[:-4]: pd.read_csv(f\"{input_dir}/{fn}\", index_col=False) for fn in os.listdir(input_dir)\n",
    "            }\n",
    "# Identify the column with datetime for analysis\n",
    "time_col = {\n",
    "                \"PatEnt\": \"createdAt_time\",\n",
    "                \"AuAx\": \"timeResponded\",\n",
    "            }\n",
    "\n",
    "# Identify and remove problematic rows where the data contains the invalid datetime: 29/02/2014\n",
    "for fn in input_data:\n",
    "    input_data[fn] = input_data[fn].iloc[~CTP_fns.invalid_leapday(input_data[fn][time_col[fn]].values)]\n",
    "    #input_data[fn][time_col[fn]] = pd.to_datetime(input_data[fn][time_col[fn]])\n",
    "\n",
    "# Display input data\n",
    "input_data"
   ]
  },
  {
   "cell_type": "code",
   "execution_count": null,
   "metadata": {},
   "outputs": [],
   "source": [
    "# Display the cleaned Patients Entries DataFrame\n",
    "input_data[\"PatEnt\"]"
   ]
  },
  {
   "cell_type": "code",
   "execution_count": null,
   "metadata": {},
   "outputs": [],
   "source": [
    "# Display the cleaned AuAx DataFrame\n",
    "input_data[\"AuAx\"]"
   ]
  },
  {
   "cell_type": "code",
   "execution_count": null,
   "metadata": {},
   "outputs": [],
   "source": [
    "# Identify and display unique patientId values in Patient Entries\n",
    "unique_patientIds = np.unique(input_data[\"Patient Entries\"][\"patientId\"])\n",
    "unique_patientIds"
   ]
  },
  {
   "cell_type": "code",
   "execution_count": 6,
   "metadata": {},
   "outputs": [],
   "source": [
    "# Create dictionary for output DataFrames\n",
    "output_data = {}"
   ]
  },
  {
   "cell_type": "code",
   "execution_count": null,
   "metadata": {},
   "outputs": [],
   "source": [
    "# Create DataFrame for output\n",
    "output_df = pd.DataFrame()\n",
    "\n",
    "# Create null Audit Actions data slice for when a entry in Patient Entries has no matching response in Audit Actions\n",
    "null_AA_slice = {\n",
    "                    \"action\": \"\",\n",
    "                    \"userId\": \"\",\n",
    "                    \"teamId\": \"\",\n",
    "                    \"timeResponded\": \"1970-01-01 00:00:00.000000 UTC\",    \n",
    "                    \"organisationId\": \"\",           \n",
    "                }\n",
    "\n",
    "\n",
    "for pid in unique_patientIds:\n",
    "\n",
    "    # Slice Patient Entries and Audit Actions w.r.t. the unique patientId (pid)\n",
    "    PE = CTP_fns.index_df(input_data[\"Patient Entries\"], colval={\"patientId\": [pid]}).sort_values(\"createdAt_time\")\n",
    "    AA = CTP_fns.index_df(input_data[\"Audit Actions\"], colval={\"patientId\": [pid]}).sort_values(\"timeResponded\")\n",
    "\n",
    "    # Extract arrays of unique createdAt_time values in PE and timeResponded values in AA\n",
    "    timeCreated = np.unique(PE[\"createdAt_time\"])\n",
    "    timeResponded = AA.sort_values(\"timeResponded\")[\"timeResponded\"].values\n",
    "\n",
    "    # Convert to datetime\n",
    "    timeC = pd.to_datetime(timeCreated)\n",
    "    timeR = pd.to_datetime(timeResponded)\n",
    "\n",
    "    # Match PE events (rows in PE grouped by same createdAt_time) to AA events (rows in AA)\n",
    "    # Matches made within each pid slice by minimum positive time difference between PE event timeC and AA event timeR\n",
    "    response_index = [None for i in range(len(timeC))]\n",
    "    if len(timeResponded)>0:\n",
    "        # Create matrix of timedeltas between timeR and timeC\n",
    "        deltas = np.add.outer(timeR - timeC[0], -(timeC - timeC[0]))/pd.Timedelta(seconds=1)\n",
    "        if len(timeR)>=len(timeC):  \n",
    "            CtR = np.argmin(np.ma.MaskedArray(deltas, deltas<0), axis=0)\n",
    "            for k in range(len(timeC)):\n",
    "                if deltas[CtR[k], k]>0:\n",
    "                    response_index[k] = CtR[k]\n",
    "        else:\n",
    "            RtC = np.argmin(np.ma.MaskedArray(deltas, deltas<0), axis=1)\n",
    "            for k in range(len(RtC)):\n",
    "                if deltas[k, RtC[k]]>0:\n",
    "                    response_index[RtC[k]] = k\n",
    "        \n",
    "\n",
    "    for i in range(len(timeCreated)):\n",
    "        # Extract first row of PE event\n",
    "        PE_slice = CTP_fns.index_df(input_data[\"Patient Entries\"], \n",
    "                        colval={\n",
    "                            \"patientId\": [pid],\n",
    "                            \"createdAt_time\": [timeCreated[i]],                  \n",
    "                            },\n",
    "                        ).iloc[0]\n",
    "        \n",
    "        responded = response_index[i] is not None\n",
    "        if responded:\n",
    "            # Extract matching AA event\n",
    "            AA_slice = CTP_fns.index_df(input_data[\"Audit Actions\"], \n",
    "                            colval={\n",
    "                                \"patientId\": [pid],\n",
    "                                \"timeResponded\": [timeResponded[response_index[i]]],                  \n",
    "                                },\n",
    "                            ).iloc[0]\n",
    "        else:\n",
    "            # Use null for missing AA event\n",
    "            AA_slice = null_AA_slice\n",
    "\n",
    "        # Add composite row to output_df DataFrame\n",
    "        output_df = pd.concat([output_df, pd.DataFrame({\n",
    "            **PE_slice,\n",
    "            **AA_slice,\n",
    "            \"responded\": responded,\n",
    "            }, index=[0])], ignore_index=True)\n",
    "\n",
    "# Convert timeResponded and createdAt_time columns to datetime\n",
    "for col in [\"timeResponded\", \"createdAt_time\"]:\n",
    "    output_df[col] = pd.to_datetime(output_df[col])\n",
    "\n",
    "# Add column identifying month_year of PE events\n",
    "output_df[\"month_year\"] = output_df[\"createdAt_time\"].dt.to_period('M')\n",
    "\n",
    "# Add column for timedelta between PE event createdAt_time and AA event timeResponded\n",
    "output_df[\"response_time\"] = output_df[\"timeResponded\"] - output_df[\"createdAt_time\"]\n",
    "\n",
    "# Save output_df in output_data as \"Responses\"\n",
    "output_data[\"Responses\"] = output_df"
   ]
  },
  {
   "cell_type": "code",
   "execution_count": null,
   "metadata": {},
   "outputs": [],
   "source": [
    "# Display the Responses DataFrame\n",
    "output_data[\"Responses\"]"
   ]
  },
  {
   "cell_type": "code",
   "execution_count": null,
   "metadata": {},
   "outputs": [],
   "source": [
    "CTP_fns.index_df(output_data[\"Responses\"], colval={\"team name\": \"Team D\",\n",
    "                                                   \"responded\": True})"
   ]
  },
  {
   "cell_type": "code",
   "execution_count": null,
   "metadata": {},
   "outputs": [],
   "source": [
    "pid = \"vGvpDeNAYT\"\n",
    "\n",
    "CTP_fns.index_df(output_data[\"Responses\"], colval={\"patientId\": pid})"
   ]
  },
  {
   "cell_type": "code",
   "execution_count": null,
   "metadata": {},
   "outputs": [],
   "source": [
    "pid = \"vGvpDeNAYT\"\n",
    "\n",
    "CTP_fns.index_df(input_data[\"Patient Entries\"], colval={\"patientId\": pid})"
   ]
  },
  {
   "cell_type": "code",
   "execution_count": null,
   "metadata": {},
   "outputs": [],
   "source": [
    "CTP_fns.index_df(input_data[\"Patient Entries\"], colval={\"patientId\": pid}).sort_values(\"createdAt_time\").iloc[40:]"
   ]
  },
  {
   "cell_type": "code",
   "execution_count": null,
   "metadata": {},
   "outputs": [],
   "source": [
    "pid = \"vGvpDeNAYT\"\n",
    "\n",
    "CTP_fns.index_df(input_data[\"Audit Actions\"], colval={\"patientId\": pid})"
   ]
  },
  {
   "cell_type": "code",
   "execution_count": null,
   "metadata": {},
   "outputs": [],
   "source": [
    "CTP_fns.index_df(output_data[\"Responses\"], colval={\"team name\": \"Team B\",\n",
    "                                                   \"responded\": True})"
   ]
  },
  {
   "cell_type": "code",
   "execution_count": null,
   "metadata": {},
   "outputs": [],
   "source": [
    "pid = \"p5XG3CyQok\"\n",
    "\n",
    "CTP_fns.index_df(output_data[\"Responses\"], colval={\"patientId\": pid})"
   ]
  },
  {
   "cell_type": "code",
   "execution_count": null,
   "metadata": {},
   "outputs": [],
   "source": [
    "pid = \"7Wbihwn5Ly\"\n",
    "\n",
    "CTP_fns.index_df(input_data[\"Patient Entries\"], colval={\"patientId\": pid})"
   ]
  },
  {
   "cell_type": "code",
   "execution_count": null,
   "metadata": {},
   "outputs": [],
   "source": [
    "pid = \"ZBw6xgfs8w\"\n",
    "\n",
    "CTP_fns.index_df(input_data[\"Audit Actions\"], colval={\"patientId\": pid})"
   ]
  },
  {
   "cell_type": "code",
   "execution_count": null,
   "metadata": {},
   "outputs": [],
   "source": [
    "pid = \"7Wbihwn5Ly\"\n",
    "\n",
    "CTP_fns.index_df(output_data[\"Responses\"], colval={\"patientId\": pid})"
   ]
  },
  {
   "cell_type": "code",
   "execution_count": null,
   "metadata": {},
   "outputs": [],
   "source": [
    "pid = \"vTkccePogn\"\n",
    "\n",
    "CTP_fns.index_df(input_data[\"Patient Entries\"], colval={\"patientId\": pid})"
   ]
  },
  {
   "cell_type": "code",
   "execution_count": null,
   "metadata": {},
   "outputs": [],
   "source": [
    "pid = \"vTkccePogn\"\n",
    "\n",
    "CTP_fns.index_df(input_data[\"Audit Actions\"], colval={\"patientId\": pid})"
   ]
  },
  {
   "cell_type": "code",
   "execution_count": 21,
   "metadata": {},
   "outputs": [],
   "source": [
    "# Create DataFrame for output\n",
    "output_df = pd.DataFrame()\n",
    "\n",
    "# Set input_df as \"Responses\"\n",
    "input_df = output_data[\"Responses\"]\n",
    "\n",
    "# Identify unique team name values in input_df\n",
    "unique_team_names = np.unique(input_df[\"team name\"])\n",
    "\n",
    "for tid in unique_team_names:\n",
    "    # Slice input_df by unique team name (tid) and extract response_time column for rows where responded=True\n",
    "    slice_cv = {\"team name\": tid}\n",
    "    response_times = CTP_fns.index_df(input_df, colval={\"responded\": True, **slice_cv})[\"response_time\"]\n",
    "    \n",
    "    # Create new evaluation row from response_times\n",
    "    team_eval = pd.DataFrame({\n",
    "                                \"team_name\": tid,\n",
    "                                \"N_events\": len(response_times),\n",
    "                                \"response_fraction\": np.mean(CTP_fns.index_df(input_df, colval=slice_cv)[\"responded\"]),\n",
    "                                \"response_time_mean\": CTP_fns.timedelta_mean(response_times),\n",
    "                                \"response_time_median\": CTP_fns.timedelta_quantile(response_times, q=0.5),\n",
    "                                \"response_time_std\": CTP_fns.timedelta_std(response_times),\n",
    "                            },\n",
    "                            index=[0]\n",
    "                            )\n",
    "    \n",
    "    # Add new evaluation row to output_df DataFrame\n",
    "    output_df = pd.concat([output_df, team_eval], ignore_index=True)\n",
    "\n",
    "# Convert selected columns to timedelta dtype\n",
    "for col in output_df.columns:\n",
    "    if col[:13]==\"response_time\":\n",
    "        output_df[col] = pd.to_timedelta(output_df[col])\n",
    "\n",
    "# Save output_df in output_data as \"team_eval\"\n",
    "output_data[\"team_eval\"] = output_df"
   ]
  },
  {
   "cell_type": "code",
   "execution_count": null,
   "metadata": {},
   "outputs": [],
   "source": [
    "# Display the team_eval DataFrame\n",
    "output_data[\"team_eval\"]"
   ]
  },
  {
   "cell_type": "code",
   "execution_count": 23,
   "metadata": {},
   "outputs": [],
   "source": [
    "# Create DataFrame for output\n",
    "output_df = pd.DataFrame()\n",
    "\n",
    "# Set input_df as \"Responses\"\n",
    "input_df = output_data[\"Responses\"]\n",
    "\n",
    "# Identify unique month_year values in input_df\n",
    "unique_month_year = np.unique(CTP_fns.index_df(input_df)[\"month_year\"])\n",
    "\n",
    "for my in unique_month_year:\n",
    "    # Slice input_df by unique month_year (my) and extract response_time column for rows where responded=True\n",
    "    slice_cv = {\"month_year\": my}\n",
    "    response_times = CTP_fns.index_df(input_df, colval={\"responded\": True, **slice_cv})[\"response_time\"]\n",
    "\n",
    "    # Create new evaluation row from response_times\n",
    "    my_eval = pd.DataFrame({\n",
    "                                \"month_year\": my,\n",
    "                                \"N_events\": len(response_times),\n",
    "                                \"response_fraction\": np.mean(CTP_fns.index_df(output_data[\"Responses\"], colval=slice_cv)[\"responded\"]),\n",
    "                                \"response_time_mean\": CTP_fns.timedelta_mean(response_times),\n",
    "                                \"response_time_median\": CTP_fns.timedelta_quantile(response_times, q=0.5),\n",
    "                                \"response_time_std\": CTP_fns.timedelta_std(response_times),\n",
    "                            },\n",
    "                            index=[0]\n",
    "                            )\n",
    "    \n",
    "    # Add new evaluation row to output_df DataFrame\n",
    "    output_df = pd.concat([output_df, my_eval], ignore_index=True)\n",
    "\n",
    "# Convert selected columns to timedelta dtype\n",
    "for col in output_df.columns:\n",
    "    if col[:13]==\"response_time\":\n",
    "        output_df[col] = pd.to_timedelta(output_df[col])\n",
    "\n",
    "# Save output_df in output_data as \"org_eval\"\n",
    "output_data[\"month_eval\"] = output_df"
   ]
  },
  {
   "cell_type": "code",
   "execution_count": null,
   "metadata": {},
   "outputs": [],
   "source": [
    "# Display the month_eval DataFrame\n",
    "output_data[\"month_eval\"]"
   ]
  },
  {
   "cell_type": "code",
   "execution_count": 25,
   "metadata": {},
   "outputs": [],
   "source": [
    "# Create DataFrame for output\n",
    "output_df = pd.DataFrame()\n",
    "\n",
    "# Set input_df as \"Responses\"\n",
    "input_df = output_data[\"Responses\"]\n",
    "\n",
    "\n",
    "for tid in unique_team_names:\n",
    "\n",
    "    # Identify unique month_year values in input_df sliced by unique team name (tid)\n",
    "    tid_unique_month_year = np.unique(CTP_fns.index_df(output_data[\"Responses\"], colval={\"team name\": tid})[\"month_year\"])\n",
    "\n",
    "    for my in tid_unique_month_year:\n",
    "        # Slice input_df by unique team name (tid) month_year (my) and extract response_time column for rows where responded=True\n",
    "        slice_cv = {\"team name\": tid, \"month_year\": my}\n",
    "        response_times = CTP_fns.index_df(input_df, colval={\"responded\": True, **slice_cv})[\"response_time\"]\n",
    "            \n",
    "        team_month_eval = pd.DataFrame({\n",
    "                                        \"team_name\": tid,\n",
    "                                        \"month_year\": my,\n",
    "                                        \"N_events\": len(response_times),\n",
    "                                        \"response_fraction\": np.mean(CTP_fns.index_df(input_df, colval=slice_cv)[\"responded\"]),\n",
    "                                        \"response_time_mean\": CTP_fns.timedelta_mean(response_times),\n",
    "                                        \"response_time_median\": CTP_fns.timedelta_quantile(response_times, q=0.5),\n",
    "                                        \"response_time_std\": CTP_fns.timedelta_std(response_times),\n",
    "                                    },\n",
    "                                    index=[0]\n",
    "                                    )\n",
    "            \n",
    "        output_df = pd.concat([output_df, team_month_eval], ignore_index=True)\n",
    "\n",
    "\n",
    "# Convert selected columns to timedelta dtype\n",
    "for col in output_df.columns:\n",
    "    if col[:13]==\"response_time\":\n",
    "        output_df[col] = pd.to_timedelta(output_df[col])\n",
    "\n",
    "# Save output_df in output_data as \"org_eval\"\n",
    "output_data[\"team_month_eval\"] = output_df"
   ]
  },
  {
   "cell_type": "code",
   "execution_count": null,
   "metadata": {},
   "outputs": [],
   "source": [
    "# Display the team_month_eval DataFrame\n",
    "output_data[\"team_month_eval\"]"
   ]
  },
  {
   "cell_type": "code",
   "execution_count": 27,
   "metadata": {},
   "outputs": [],
   "source": [
    "# Create DataFrame for output\n",
    "output_df = pd.DataFrame()\n",
    "\n",
    "# Set input_df as \"team_month_eval\"\n",
    "input_df = output_data[\"team_month_eval\"]\n",
    "\n",
    "# Identify unique month_year values in input_df\n",
    "unique_month_year = np.unique(input_df[\"month_year\"])\n",
    "\n",
    "for my in unique_month_year:\n",
    "\n",
    "    # Extract month_eval by slicing input_df by unique month_year (my) and sorting rows by \"response_time_mean\"\n",
    "    slice_cv = {\"month_year\": my}\n",
    "    month_eval = CTP_fns.index_df(input_df, colval=slice_cv).sort_values(\"response_time_mean\")\n",
    "    # Select best team (bt) from top row (i.e. shortest response_time_mean)\n",
    "    bt = month_eval[\"team_name\"].values[0]\n",
    "\n",
    "    # Extract best team row from month_eval and append to output_df\n",
    "    bt_month_eval = CTP_fns.index_df(month_eval, colval={\"team_name\": bt})\n",
    "    output_df = pd.concat([output_df, bt_month_eval], ignore_index=True)\n",
    "\n",
    "# Save output_df in output_data as \"bt_month_eval\"\n",
    "output_data[\"bt_month_eval\"] = output_df"
   ]
  },
  {
   "cell_type": "code",
   "execution_count": null,
   "metadata": {},
   "outputs": [],
   "source": [
    "# Display the bt_month_eval DataFrame\n",
    "output_data[\"bt_month_eval\"]"
   ]
  },
  {
   "cell_type": "code",
   "execution_count": null,
   "metadata": {},
   "outputs": [],
   "source": [
    "# Select column to be plotted\n",
    "val = \"response_time_mean\"\n",
    "val2 = \"N_events\"\n",
    "# Create figure object\n",
    "fig_team = CTP_fns.rc_fig(name=f\"fig_team_{val}\")\n",
    "\n",
    "# Set plot_df as \"team_eval\" sorted by \"team_name\"\n",
    "plot_df = output_data[\"team_eval\"].sort_values(\"team_name\")\n",
    "\n",
    "# Plot ax\n",
    "x = np.arange(plot_df.shape[0]) # Placement of bars along x\n",
    "y = (plot_df[val]/pd.Timedelta(hours=1)).values # Bar heights in units of hours\n",
    "fig_team.ax[0][0].bar(x=x, height=y) # Plot bars\n",
    "fig_team.ax[0][0].set_xlim(x[[0,-1]] + 0.5*np.array([-1,1]))\n",
    "\n",
    "# Plot ax2\n",
    "fig_team.twin(\"x\")\n",
    "y2 = plot_df[val2].values/len(unique_month_year) # Values on y on ax2\n",
    "fig_team.ax2[0][0].plot(x, y2, marker=\".\", color=\"black\", lw=2, ms=10, ls=\":\") # Plot line\n",
    "fig_team.ax2[0][0].set_ylim(bottom=0)\n",
    "\n",
    "# Legend\n",
    "fig_team.ax[0][0].legend([fig_team.__dict__[f\"ax{k}\"][0][0].get_children()[0] for k in [\"\", \"2\"]], [val, val2], loc=\"upper left\") # Legend\n",
    "\n",
    "# team_name ticks\n",
    "xticklabels_options = {\"rotation\": 45, \"horizontalalignment\": 'right', \"rotation_mode\": 'anchor'} \n",
    "fig_team.ax[0][0].set_xticks(x, labels=np.array(plot_df[\"team_name\"].values, dtype=str), **xticklabels_options)\n",
    "# ylabels\n",
    "fig_team.ax[0][0].set_ylabel(f\"{val} / hr\")\n",
    "fig_team.ax2[0][0].set_ylabel(f\"{val2} / month\")\n",
    "fig_team.ax[0][0].set_title(\"Performance by Team\")\n",
    "\n",
    "# Export figure as pdf\n",
    "fig_team.export(fig_dir=\"output_figs\")\n"
   ]
  },
  {
   "cell_type": "code",
   "execution_count": null,
   "metadata": {},
   "outputs": [],
   "source": [
    "# Select column to be plotted\n",
    "val = \"response_time_mean\"\n",
    "val2 = \"N_events\"\n",
    "# Create figure object\n",
    "fig_month = CTP_fns.rc_fig(name=f\"fig_month_{val}\")\n",
    "\n",
    "# Set plot_df as \"team_eval\" sorted by \"team_name\"\n",
    "plot_df = output_data[\"month_eval\"].sort_values(\"month_year\")\n",
    "\n",
    "# Plot ax\n",
    "x = np.array([month.strftime('%b %Y') for month in plot_df[\"month_year\"].values])  # Timestamps on x\n",
    "y = (plot_df[val]/pd.Timedelta(hours=1)).values # Values on y in units of hours\n",
    "fig_month.ax[0][0].plot(x, y, marker=\".\", lw=2, ms=10)    # Plot line\n",
    "\n",
    "# Plot ax2\n",
    "fig_month.twin(\"x\")\n",
    "y2 = plot_df[val2].values # Values on y on ax2\n",
    "fig_month.ax2[0][0].plot(x, y2, marker=\".\", color=\"black\", lw=2, ms=10) # Plot line\n",
    "#fig_month.ax2[0][0].set_ylim(bottom=0)\n",
    "\n",
    "# Legend\n",
    "fig_month.ax[0][0].legend([fig_month.__dict__[f\"ax{k}\"][0][0].get_children()[0] for k in [\"\", \"2\"]], [val, val2], loc=\"upper center\") # Legend\n",
    "\n",
    "# month ticks\n",
    "xticklabels_options = {\"rotation\": 45, \"horizontalalignment\": 'right', \"rotation_mode\": 'anchor'} \n",
    "fig_month.ax[0][0].set_xticks(fig_month.ax[0][0].get_xticks(), labels=fig_month.ax[0][0].get_xticklabels(), **xticklabels_options)\n",
    "# ylabels\n",
    "fig_month.ax[0][0].set_ylabel(f\"{val} / hr\")\n",
    "fig_month.ax2[0][0].set_ylabel(f\"{val2}\")\n",
    "fig_month.ax2[0][0].yaxis.set_major_locator(MaxNLocator(integer=True))\n",
    "fig_month.ax[0][0].set_title(\"Overall Performance by Month\")\n",
    "\n",
    "# Export figure as pdf\n",
    "fig_month.export(fig_dir=\"output_figs\")"
   ]
  },
  {
   "cell_type": "code",
   "execution_count": null,
   "metadata": {},
   "outputs": [],
   "source": [
    "# Select column to be plotted\n",
    "val = \"response_time_mean\"\n",
    "val2 = \"N_events\"\n",
    "# Create figure object\n",
    "fig_bt_month = CTP_fns.rc_fig(name=f\"fig_bt_month_{val}\")\n",
    "\n",
    "# Set plot_df as \"team_eval\" sorted by \"team_name\"\n",
    "plot_df = output_data[\"bt_month_eval\"].sort_values(\"month_year\")\n",
    "\n",
    "# Colours for team_name\n",
    "cols = CTP_fns.make_iterable_array(plt.rcParams['axes.prop_cycle'].by_key()['color'])  # Colour prop_cycle\n",
    "unique_bt_names = np.unique(plot_df[\"team_name\"])   # Unique best team_names (btid)\n",
    "btid_Series = pd.Series(np.arange(unique_bt_names.size), unique_bt_names) # Colour index for btid values\n",
    "bt_cols = cols[btid_Series[plot_df[\"team_name\"]]] # Sequential bar colours\n",
    "btid_i0 = pd.Series(np.array([plot_df.index[CTP_fns.get_index(plot_df, colval={\"team_name\": btid})][0] for btid in unique_bt_names]), index=unique_bt_names) # Index of first bar for each btid\n",
    "\n",
    "# Plot ax\n",
    "x = np.array([month.strftime('%b %Y') for month in plot_df[\"month_year\"].values])  # Timestamps on x\n",
    "y = (plot_df[val]/pd.Timedelta(hours=1)).values # Values on y in units of hours\n",
    "fig_bt_month.ax[0][0].bar(x=x, height=y, width=0.8, color=bt_cols) # Plot bars\n",
    "\n",
    "# Plot ax2\n",
    "fig_bt_month.twin(\"x\")\n",
    "y2 = plot_df[val2].values # Values on y on ax2\n",
    "fig_bt_month.ax2[0][0].plot(x, y2, marker=\".\", color=\"black\", lw=2, ms=10, ls=\":\") # Plot line\n",
    "fig_bt_month.ax2[0][0].set_ylim(bottom=0)\n",
    "\n",
    "# Legends\n",
    "fig_bt_month.ax[0][0].legend([fig_bt_month.ax[0][0].get_children()[k] for k in btid_i0.values], btid_i0.index) # ax\n",
    "fig_bt_month.ax2[0][0].legend([fig_bt_month.ax2[0][0].get_children()[k] for k in [0]], [val2], loc=\"upper center\") # ax2\n",
    "\n",
    "# month ticks\n",
    "xticklabels_options = {\"rotation\": 45, \"horizontalalignment\": 'right', \"rotation_mode\": 'anchor'} \n",
    "fig_bt_month.ax[0][0].set_xticks(fig_bt_month.ax[0][0].get_xticks(), labels=fig_bt_month.ax[0][0].get_xticklabels(), **xticklabels_options)\n",
    "# ylabels\n",
    "fig_bt_month.ax[0][0].set_ylabel(f\"{val} / hr\")\n",
    "fig_bt_month.ax2[0][0].set_ylabel(f\"{val2}\")\n",
    "fig_bt_month.ax2[0][0].yaxis.set_major_locator(MaxNLocator(integer=True))\n",
    "fig_bt_month.ax[0][0].set_title(\"Best Team Performance by Month\")\n",
    "\n",
    "# Export figure as pdf\n",
    "fig_bt_month.export(fig_dir=\"output_figs\")"
   ]
  },
  {
   "cell_type": "code",
   "execution_count": 32,
   "metadata": {},
   "outputs": [],
   "source": [
    "# Export output_data to .csv files in output_dir\n",
    "output_dir = \"output_data\"\n",
    "CTP_fns.mkdir_export(output_dir)\n",
    "for fn in output_data:\n",
    "    output_data[fn].to_csv(f\"{output_dir}/{fn}.csv\", index=False)"
   ]
  }
 ],
 "metadata": {
  "kernelspec": {
   "display_name": "PyZan",
   "language": "python",
   "name": "python3"
  },
  "language_info": {
   "codemirror_mode": {
    "name": "ipython",
    "version": 3
   },
   "file_extension": ".py",
   "mimetype": "text/x-python",
   "name": "python",
   "nbconvert_exporter": "python",
   "pygments_lexer": "ipython3",
   "version": "3.9.19"
  }
 },
 "nbformat": 4,
 "nbformat_minor": 2
}
